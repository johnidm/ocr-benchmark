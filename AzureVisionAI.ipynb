{
 "cells": [
  {
   "cell_type": "code",
   "execution_count": 4,
   "id": "0c316023-c5e3-4629-ad0d-b81be83bd6ee",
   "metadata": {},
   "outputs": [],
   "source": [
    "!pip install azure-ai-vision-imageanalysis -q"
   ]
  },
  {
   "cell_type": "code",
   "execution_count": 6,
   "id": "016290fd-ce54-466d-b285-578db3617888",
   "metadata": {},
   "outputs": [],
   "source": [
    "from azure.ai.vision.imageanalysis import ImageAnalysisClient\n",
    "from azure.ai.vision.imageanalysis.models import VisualFeatures\n",
    "from azure.core.credentials import AzureKeyCredential"
   ]
  },
  {
   "cell_type": "code",
   "execution_count": 7,
   "id": "13519197-29c0-40ef-b8af-f3b28f3bb154",
   "metadata": {},
   "outputs": [],
   "source": [
    "region = \"eastus\"\n",
    "endpoint = \"https://ocrapirest.cognitiveservices.azure.com/\"\n",
    "key = \"\""
   ]
  },
  {
   "cell_type": "code",
   "execution_count": 9,
   "id": "27654c4a-363b-4301-b2d7-3b3dc92b4051",
   "metadata": {},
   "outputs": [
    {
     "data": {
      "text/plain": [
       "<azure.ai.vision.imageanalysis._patch.ImageAnalysisClient at 0x73da7ac26660>"
      ]
     },
     "execution_count": 9,
     "metadata": {},
     "output_type": "execute_result"
    }
   ],
   "source": [
    "client = ImageAnalysisClient(\n",
    "    endpoint=endpoint,\n",
    "    credential=AzureKeyCredential(key),\n",
    "    region=region,\n",
    ")\n",
    "\n",
    "client"
   ]
  },
  {
   "cell_type": "code",
   "execution_count": 11,
   "id": "98832a77-ec93-43e9-b34c-1be389da3b2a",
   "metadata": {},
   "outputs": [],
   "source": [
    "image_path = \"images/1.jpg\"\n",
    "\n",
    "with open(image_path, \"rb\") as f:\n",
    "    image_data = f.read()"
   ]
  },
  {
   "cell_type": "code",
   "execution_count": 30,
   "id": "4837c547-0cec-4b6b-a14c-1a7bd336d513",
   "metadata": {},
   "outputs": [],
   "source": [
    "visual_features = [\n",
    "    # VisualFeatures.TAGS,\n",
    "    # VisualFeatures.OBJECTS,\n",
    "    # VisualFeatures.CAPTION,\n",
    "    # VisualFeatures.DENSE_CAPTIONS,\n",
    "    VisualFeatures.READ,\n",
    "    # VisualFeatures.SMART_CROPS,\n",
    "    # VisualFeatures.PEOPLE,\n",
    "]\n",
    "\n",
    "result = client.analyze(\n",
    "    image_data=image_data,\n",
    "    visual_features=visual_features,\n",
    "    smart_crops_aspect_ratios=[0.9, 1.33],\n",
    "    gender_neutral_caption=True,\n",
    ")"
   ]
  },
  {
   "cell_type": "code",
   "execution_count": 31,
   "id": "e79bf830-eccb-4a9e-bf0d-7dca5275e17e",
   "metadata": {},
   "outputs": [
    {
     "data": {
      "text/plain": [
       "dict_keys(['modelVersion', 'metadata', 'readResult'])"
      ]
     },
     "execution_count": 31,
     "metadata": {},
     "output_type": "execute_result"
    }
   ],
   "source": [
    "result.keys()"
   ]
  },
  {
   "cell_type": "code",
   "execution_count": 25,
   "id": "b6f64fb5-471f-460c-a873-fafe2d368fc4",
   "metadata": {},
   "outputs": [
    {
     "name": "stdout",
     "output_type": "stream",
     "text": [
      " Read:\n",
      "   Line: 'LÍRIO', Bounding box [{'x': 264, 'y': 2045}, {'x': 249, 'y': 1680}, {'x': 387, 'y': 1687}, {'x': 373, 'y': 2045}]\n",
      "     Word: 'LÍRIO', Bounding polygon [{'x': 249, 'y': 2041}, {'x': 249, 'y': 1724}, {'x': 387, 'y': 1724}, {'x': 387, 'y': 2041}], Confidence 0.9580\n",
      "   Line: 'AZUL', Bounding box [{'x': 426, 'y': 2039}, {'x': 419, 'y': 1652}, {'x': 537, 'y': 1652}, {'x': 540, 'y': 2037}]\n",
      "     Word: 'AZUL', Bounding polygon [{'x': 434, 'y': 2030}, {'x': 419, 'y': 1676}, {'x': 538, 'y': 1678}, {'x': 534, 'y': 2028}], Confidence 0.9880\n",
      "   Line: 'F 10/24 L LI J 15 2331 H', Bounding box [{'x': 598, 'y': 807}, {'x': 1651, 'y': 833}, {'x': 1649, 'y': 903}, {'x': 598, 'y': 882}]\n",
      "     Word: 'F', Bounding polygon [{'x': 600, 'y': 807}, {'x': 641, 'y': 808}, {'x': 641, 'y': 874}, {'x': 600, 'y': 871}], Confidence 0.9930\n",
      "     Word: '10/24', Bounding polygon [{'x': 687, 'y': 809}, {'x': 911, 'y': 815}, {'x': 911, 'y': 890}, {'x': 687, 'y': 877}], Confidence 0.6580\n",
      "     Word: 'L', Bounding polygon [{'x': 957, 'y': 816}, {'x': 998, 'y': 817}, {'x': 998, 'y': 894}, {'x': 957, 'y': 892}], Confidence 0.9900\n",
      "     Word: 'LI', Bounding polygon [{'x': 1043, 'y': 818}, {'x': 1132, 'y': 820}, {'x': 1133, 'y': 899}, {'x': 1044, 'y': 896}], Confidence 0.9630\n",
      "     Word: 'J', Bounding polygon [{'x': 1159, 'y': 821}, {'x': 1200, 'y': 822}, {'x': 1201, 'y': 901}, {'x': 1160, 'y': 899}], Confidence 0.9970\n",
      "     Word: '15', Bounding polygon [{'x': 1217, 'y': 822}, {'x': 1296, 'y': 824}, {'x': 1297, 'y': 902}, {'x': 1218, 'y': 901}], Confidence 0.9940\n",
      "     Word: '2331', Bounding polygon [{'x': 1351, 'y': 826}, {'x': 1537, 'y': 830}, {'x': 1538, 'y': 903}, {'x': 1352, 'y': 903}], Confidence 0.9950\n",
      "     Word: 'H', Bounding polygon [{'x': 1602, 'y': 832}, {'x': 1642, 'y': 833}, {'x': 1644, 'y': 903}, {'x': 1603, 'y': 903}], Confidence 0.9960\n",
      "   Line: 'O CORPO, ENSABOAR E', Bounding box [{'x': 967, 'y': 2045}, {'x': 916, 'y': 1527}, {'x': 971, 'y': 1522}, {'x': 1027, 'y': 2039}]\n",
      "     Word: 'O', Bounding polygon [{'x': 970, 'y': 2045}, {'x': 967, 'y': 2017}, {'x': 1024, 'y': 2010}, {'x': 1028, 'y': 2038}], Confidence 0.9880\n",
      "     Word: 'CORPO,', Bounding polygon [{'x': 964, 'y': 1997}, {'x': 942, 'y': 1822}, {'x': 1000, 'y': 1816}, {'x': 1021, 'y': 1990}], Confidence 0.9560\n",
      "     Word: 'ENSABOAR', Bounding polygon [{'x': 941, 'y': 1810}, {'x': 919, 'y': 1573}, {'x': 974, 'y': 1568}, {'x': 999, 'y': 1804}], Confidence 0.9930\n",
      "     Word: 'E', Bounding polygon [{'x': 918, 'y': 1560}, {'x': 916, 'y': 1532}, {'x': 970, 'y': 1527}, {'x': 973, 'y': 1555}], Confidence 0.9930\n",
      "   Line: 'O. ADVERTÊNCIAS:', Bounding box [{'x': 1026, 'y': 2038}, {'x': 978, 'y': 1619}, {'x': 1030, 'y': 1612}, {'x': 1084, 'y': 2030}]\n",
      "     Word: 'O.', Bounding polygon [{'x': 1029, 'y': 2037}, {'x': 1021, 'y': 1985}, {'x': 1076, 'y': 1977}, {'x': 1084, 'y': 2028}], Confidence 0.8890\n",
      "     Word: 'ADVERTÊNCIAS:', Bounding polygon [{'x': 1019, 'y': 1974}, {'x': 978, 'y': 1621}, {'x': 1027, 'y': 1613}, {'x': 1074, 'y': 1965}], Confidence 0.9440\n",
      "   Line: 'CANCE DE CRIANÇAS. EM', Bounding box [{'x': 1082, 'y': 2046}, {'x': 1015, 'y': 1497}, {'x': 1067, 'y': 1491}, {'x': 1138, 'y': 2044}]\n",
      "     Word: 'CANCE', Bounding polygon [{'x': 1085, 'y': 2038}, {'x': 1060, 'y': 1883}, {'x': 1115, 'y': 1880}, {'x': 1137, 'y': 2037}], Confidence 0.9940\n",
      "     Word: 'DE', Bounding polygon [{'x': 1058, 'y': 1871}, {'x': 1050, 'y': 1809}, {'x': 1105, 'y': 1806}, {'x': 1113, 'y': 1868}], Confidence 0.9930\n",
      "     Word: 'CRIANÇAS.', Bounding polygon [{'x': 1048, 'y': 1797}, {'x': 1021, 'y': 1570}, {'x': 1076, 'y': 1565}, {'x': 1104, 'y': 1794}], Confidence 0.9590\n",
      "     Word: 'EM', Bounding polygon [{'x': 1020, 'y': 1559}, {'x': 1015, 'y': 1508}, {'x': 1069, 'y': 1502}, {'x': 1075, 'y': 1553}], Confidence 0.9940\n",
      "   Line: 'SEM', Bounding box [{'x': 944, 'y': 1327}, {'x': 934, 'y': 1223}, {'x': 973, 'y': 1219}, {'x': 983, 'y': 1321}]\n",
      "     Word: 'SEM', Bounding polygon [{'x': 944, 'y': 1320}, {'x': 936, 'y': 1245}, {'x': 976, 'y': 1241}, {'x': 983, 'y': 1316}], Confidence 0.8710\n",
      "   Line: 'OS OLHOS LAVAR', Bounding box [{'x': 1140, 'y': 2045}, {'x': 1082, 'y': 1641}, {'x': 1130, 'y': 1633}, {'x': 1192, 'y': 2038}]\n",
      "     Word: 'OS', Bounding polygon [{'x': 1141, 'y': 2031}, {'x': 1129, 'y': 1969}, {'x': 1180, 'y': 1963}, {'x': 1189, 'y': 2024}], Confidence 0.9930\n",
      "     Word: 'OLHOS', Bounding polygon [{'x': 1127, 'y': 1954}, {'x': 1102, 'y': 1803}, {'x': 1155, 'y': 1795}, {'x': 1178, 'y': 1948}], Confidence 0.9940\n",
      "     Word: 'LAVAR', Bounding polygon [{'x': 1101, 'y': 1792}, {'x': 1083, 'y': 1654}, {'x': 1132, 'y': 1647}, {'x': 1153, 'y': 1785}], Confidence 0.9950\n",
      "   Line: '1 AGUA, EM CASO DE', Bounding box [{'x': 1194, 'y': 2046}, {'x': 1123, 'y': 1602}, {'x': 1172, 'y': 1594}, {'x': 1242, 'y': 2044}]\n",
      "     Word: '1', Bounding polygon [{'x': 1195, 'y': 2045}, {'x': 1191, 'y': 2021}, {'x': 1238, 'y': 2021}, {'x': 1241, 'y': 2045}], Confidence 0.5690\n",
      "     Word: 'AGUA,', Bounding polygon [{'x': 1189, 'y': 2010}, {'x': 1165, 'y': 1873}, {'x': 1217, 'y': 1870}, {'x': 1236, 'y': 2009}], Confidence 0.6780\n",
      "     Word: 'EM', Bounding polygon [{'x': 1163, 'y': 1863}, {'x': 1155, 'y': 1813}, {'x': 1207, 'y': 1809}, {'x': 1215, 'y': 1860}], Confidence 0.9960\n",
      "     Word: 'CASO', Bounding polygon [{'x': 1151, 'y': 1790}, {'x': 1134, 'y': 1680}, {'x': 1184, 'y': 1673}, {'x': 1203, 'y': 1785}], Confidence 0.9910\n",
      "     Word: 'DE', Bounding polygon [{'x': 1131, 'y': 1659}, {'x': 1123, 'y': 1607}, {'x': 1170, 'y': 1599}, {'x': 1180, 'y': 1652}], Confidence 0.9970\n",
      "   Line: 'ARABENO', Bounding box [{'x': 1069, 'y': 1371}, {'x': 1034, 'y': 1191}, {'x': 1099, 'y': 1187}, {'x': 1126, 'y': 1363}]\n",
      "     Word: 'ARABENO', Bounding polygon [{'x': 1071, 'y': 1356}, {'x': 1036, 'y': 1195}, {'x': 1080, 'y': 1192}, {'x': 1114, 'y': 1355}], Confidence 0.7620\n",
      "   Line: 'USO E PROCURE A UM', Bounding box [{'x': 1246, 'y': 2046}, {'x': 1165, 'y': 1558}, {'x': 1214, 'y': 1553}, {'x': 1298, 'y': 2041}]\n",
      "     Word: 'USO', Bounding polygon [{'x': 1241, 'y': 2021}, {'x': 1227, 'y': 1936}, {'x': 1280, 'y': 1932}, {'x': 1294, 'y': 2017}], Confidence 0.9960\n",
      "     Word: 'E', Bounding polygon [{'x': 1223, 'y': 1915}, {'x': 1218, 'y': 1886}, {'x': 1271, 'y': 1882}, {'x': 1276, 'y': 1910}], Confidence 0.9620\n",
      "     Word: 'PROCURE', Bounding polygon [{'x': 1216, 'y': 1875}, {'x': 1183, 'y': 1673}, {'x': 1234, 'y': 1668}, {'x': 1269, 'y': 1870}], Confidence 0.9930\n",
      "     Word: 'A', Bounding polygon [{'x': 1180, 'y': 1655}, {'x': 1177, 'y': 1632}, {'x': 1226, 'y': 1627}, {'x': 1230, 'y': 1650}], Confidence 0.9570\n",
      "     Word: 'UM', Bounding polygon [{'x': 1175, 'y': 1621}, {'x': 1166, 'y': 1566}, {'x': 1215, 'y': 1561}, {'x': 1224, 'y': 1616}], Confidence 0.9970\n",
      "   Line: 'Unilever®', Bounding box [{'x': 1074, 'y': 1137}, {'x': 1046, 'y': 923}, {'x': 1106, 'y': 916}, {'x': 1135, 'y': 1132}]\n",
      "     Word: 'Unilever®', Bounding polygon [{'x': 1073, 'y': 1134}, {'x': 1046, 'y': 923}, {'x': 1103, 'y': 917}, {'x': 1134, 'y': 1130}], Confidence 0.5590\n",
      "   Line: 'S):', Bounding box [{'x': 1392, 'y': 2045}, {'x': 1381, 'y': 1993}, {'x': 1422, 'y': 1986}, {'x': 1428, 'y': 2045}]\n",
      "     Word: 'S):', Bounding polygon [{'x': 1389, 'y': 2038}, {'x': 1381, 'y': 1992}, {'x': 1423, 'y': 1986}, {'x': 1429, 'y': 2032}], Confidence 0.7260\n",
      "   Line: 'SAC: WWW.LUX.COM.BR. WHATSAPP: (11) 97539-8650.', Bounding box [{'x': 1355, 'y': 1903}, {'x': 1195, 'y': 1041}, {'x': 1240, 'y': 1032}, {'x': 1405, 'y': 1893}]\n",
      "     Word: 'SAC:', Bounding polygon [{'x': 1359, 'y': 1896}, {'x': 1341, 'y': 1811}, {'x': 1386, 'y': 1802}, {'x': 1404, 'y': 1887}], Confidence 0.9900\n",
      "     Word: 'WWW.LUX.COM.BR.', Bounding polygon [{'x': 1338, 'y': 1801}, {'x': 1271, 'y': 1468}, {'x': 1317, 'y': 1460}, {'x': 1384, 'y': 1792}], Confidence 0.9590\n",
      "     Word: 'WHATSAPP:', Bounding polygon [{'x': 1269, 'y': 1458}, {'x': 1235, 'y': 1274}, {'x': 1281, 'y': 1266}, {'x': 1315, 'y': 1450}], Confidence 0.9590\n",
      "     Word: '(11)', Bounding polygon [{'x': 1233, 'y': 1264}, {'x': 1226, 'y': 1220}, {'x': 1271, 'y': 1212}, {'x': 1279, 'y': 1256}], Confidence 0.9830\n",
      "     Word: '97539-8650.', Bounding polygon [{'x': 1224, 'y': 1210}, {'x': 1195, 'y': 1043}, {'x': 1242, 'y': 1035}, {'x': 1270, 'y': 1202}], Confidence 0.9870\n",
      "   Line: 'Descubra mais em www.lux.com.br.', Bounding box [{'x': 1404, 'y': 1891}, {'x': 1284, 'y': 1307}, {'x': 1326, 'y': 1301}, {'x': 1447, 'y': 1882}]\n",
      "     Word: 'Descubra', Bounding polygon [{'x': 1405, 'y': 1891}, {'x': 1371, 'y': 1730}, {'x': 1413, 'y': 1722}, {'x': 1448, 'y': 1882}], Confidence 0.9940\n",
      "     Word: 'mais', Bounding polygon [{'x': 1369, 'y': 1721}, {'x': 1352, 'y': 1640}, {'x': 1394, 'y': 1633}, {'x': 1411, 'y': 1713}], Confidence 0.9880\n",
      "     Word: 'em', Bounding polygon [{'x': 1350, 'y': 1631}, {'x': 1341, 'y': 1590}, {'x': 1384, 'y': 1583}, {'x': 1393, 'y': 1624}], Confidence 0.9970\n",
      "     Word: 'www.lux.com.br.', Bounding polygon [{'x': 1337, 'y': 1569}, {'x': 1284, 'y': 1309}, {'x': 1327, 'y': 1304}, {'x': 1380, 'y': 1562}], Confidence 0.9930\n",
      "   Line: 'L 64393812', Bounding box [{'x': 1422, 'y': 944}, {'x': 1642, 'y': 935}, {'x': 1645, 'y': 974}, {'x': 1423, 'y': 985}]\n",
      "     Word: 'L', Bounding polygon [{'x': 1427, 'y': 944}, {'x': 1448, 'y': 943}, {'x': 1450, 'y': 985}, {'x': 1429, 'y': 986}], Confidence 0.6440\n",
      "     Word: '64393812', Bounding polygon [{'x': 1488, 'y': 941}, {'x': 1635, 'y': 936}, {'x': 1638, 'y': 973}, {'x': 1490, 'y': 983}], Confidence 0.8730\n",
      "   Line: '7 891150 060302', Bounding box [{'x': 1746, 'y': 1863}, {'x': 1570, 'y': 1072}, {'x': 1658, 'y': 1054}, {'x': 1829, 'y': 1843}]\n",
      "     Word: '7', Bounding polygon [{'x': 1745, 'y': 1862}, {'x': 1735, 'y': 1814}, {'x': 1819, 'y': 1796}, {'x': 1828, 'y': 1844}], Confidence 0.9660\n",
      "     Word: '891150', Bounding polygon [{'x': 1718, 'y': 1737}, {'x': 1647, 'y': 1417}, {'x': 1736, 'y': 1399}, {'x': 1804, 'y': 1719}], Confidence 0.9930\n",
      "     Word: '060302', Bounding polygon [{'x': 1636, 'y': 1369}, {'x': 1570, 'y': 1074}, {'x': 1652, 'y': 1056}, {'x': 1725, 'y': 1351}], Confidence 0.9940\n",
      "   Line: 'CEP 13272-000,', Bounding box [{'x': 2007, 'y': 1351}, {'x': 1958, 'y': 1110}, {'x': 2010, 'y': 1101}, {'x': 2047, 'y': 1341}]\n",
      "     Word: 'CEP', Bounding polygon [{'x': 2012, 'y': 1326}, {'x': 2000, 'y': 1274}, {'x': 2039, 'y': 1265}, {'x': 2044, 'y': 1318}], Confidence 0.7970\n",
      "     Word: '13272-000,', Bounding polygon [{'x': 1997, 'y': 1265}, {'x': 1958, 'y': 1112}, {'x': 2009, 'y': 1103}, {'x': 2038, 'y': 1256}], Confidence 0.9240\n",
      "   Line: '618-15.', Bounding box [{'x': 2003, 'y': 1200}, {'x': 1989, 'y': 1105}, {'x': 2030, 'y': 1097}, {'x': 2043, 'y': 1192}]\n",
      "     Word: '618-15.', Bounding polygon [{'x': 2003, 'y': 1199}, {'x': 1990, 'y': 1105}, {'x': 2031, 'y': 1100}, {'x': 2044, 'y': 1193}], Confidence 0.3230\n",
      " Tags:\n",
      "   'text', Confidence 1.0000\n",
      "   'flower', Confidence 0.8451\n",
      "   'blue', Confidence 0.8303\n",
      "   'indoor', Confidence 0.5445\n",
      " Image height: 2048\n",
      " Image width: 2048\n",
      " Model version: 2023-10-01\n"
     ]
    }
   ],
   "source": [
    "if result.caption is not None:\n",
    "    print(\" Caption:\")\n",
    "    print(f\"   '{result.caption.text}', Confidence {result.caption.confidence:.4f}\")\n",
    "\n",
    "if result.dense_captions is not None:\n",
    "    print(\" Dense Captions:\")\n",
    "    for caption in result.dense_captions.list:\n",
    "        print(\n",
    "            f\"   '{caption.text}', {caption.bounding_box}, Confidence: {caption.confidence:.4f}\"\n",
    "        )\n",
    "\n",
    "if result.read is not None:\n",
    "    print(\" Read:\")\n",
    "    for line in result.read.blocks[0].lines:\n",
    "        print(f\"   Line: '{line.text}', Bounding box {line.bounding_polygon}\")\n",
    "        for word in line.words:\n",
    "            print(\n",
    "                f\"     Word: '{word.text}', Bounding polygon {word.bounding_polygon}, Confidence {word.confidence:.4f}\"\n",
    "            )\n",
    "\n",
    "if result.tags is not None:\n",
    "    print(\" Tags:\")\n",
    "    for tag in result.tags.list:\n",
    "        print(f\"   '{tag.name}', Confidence {tag.confidence:.4f}\")\n",
    "\n",
    "if result.objects is not None:\n",
    "    print(\" Objects:\")\n",
    "    for object in result.objects.list:\n",
    "        print(\n",
    "            f\"   '{object.tags[0].name}', {object.bounding_box}, Confidence: {object.tags[0].confidence:.4f}\"\n",
    "        )\n",
    "\n",
    "if result.people is not None:\n",
    "    print(\" People:\")\n",
    "    for person in result.people.list:\n",
    "        print(f\"   {person.bounding_box}, Confidence {person.confidence:.4f}\")\n",
    "\n",
    "if result.smart_crops is not None:\n",
    "    print(\" Smart Cropping:\")\n",
    "    for smart_crop in result.smart_crops.list:\n",
    "        print(\n",
    "            f\"   Aspect ratio {smart_crop.aspect_ratio}: Smart crop {smart_crop.bounding_box}\"\n",
    "        )\n",
    "\n",
    "print(f\" Image height: {result.metadata.height}\")\n",
    "print(f\" Image width: {result.metadata.width}\")\n",
    "print(f\" Model version: {result.model_version}\")"
   ]
  },
  {
   "cell_type": "code",
   "execution_count": 28,
   "id": "ad19f7dd-f3f8-4b81-a7b2-26f7ee6c1065",
   "metadata": {},
   "outputs": [
    {
     "data": {
      "text/plain": [
       "['LÍRIO',\n",
       " 'AZUL',\n",
       " 'F 10/24 L LI J 15 2331 H',\n",
       " 'O CORPO, ENSABOAR E',\n",
       " 'O. ADVERTÊNCIAS:',\n",
       " 'CANCE DE CRIANÇAS. EM',\n",
       " 'SEM',\n",
       " 'OS OLHOS LAVAR',\n",
       " '1 AGUA, EM CASO DE',\n",
       " 'ARABENO',\n",
       " 'USO E PROCURE A UM',\n",
       " 'Unilever®',\n",
       " 'S):',\n",
       " 'SAC: WWW.LUX.COM.BR. WHATSAPP: (11) 97539-8650.',\n",
       " 'Descubra mais em www.lux.com.br.',\n",
       " 'L 64393812',\n",
       " '7 891150 060302',\n",
       " 'CEP 13272-000,',\n",
       " '618-15.']"
      ]
     },
     "execution_count": 28,
     "metadata": {},
     "output_type": "execute_result"
    }
   ],
   "source": [
    "lines = []\n",
    "\n",
    "if result.read is not None:\n",
    "    for line in result.read.blocks[0].lines:\n",
    "        lines.append(line.text)\n",
    "\n",
    "lines"
   ]
  },
  {
   "cell_type": "code",
   "execution_count": null,
   "id": "1e1fd176-2978-4e16-a7be-3ccd7aefe1dc",
   "metadata": {},
   "outputs": [],
   "source": []
  }
 ],
 "metadata": {
  "kernelspec": {
   "display_name": "Python 3 (ipykernel)",
   "language": "python",
   "name": "python3"
  },
  "language_info": {
   "codemirror_mode": {
    "name": "ipython",
    "version": 3
   },
   "file_extension": ".py",
   "mimetype": "text/x-python",
   "name": "python",
   "nbconvert_exporter": "python",
   "pygments_lexer": "ipython3",
   "version": "3.12.8"
  }
 },
 "nbformat": 4,
 "nbformat_minor": 5
}
